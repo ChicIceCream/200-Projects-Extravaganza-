{
  "cells": [
    {
      "cell_type": "markdown",
      "metadata": {
        "id": "view-in-github",
        "colab_type": "text"
      },
      "source": [
        "<a href=\"https://colab.research.google.com/github/ChicIceCream/200-Projects-Extravaganza-/blob/main/Single_Perceptron.ipynb\" target=\"_parent\"><img src=\"https://colab.research.google.com/assets/colab-badge.svg\" alt=\"Open In Colab\"/></a>"
      ]
    },
    {
      "cell_type": "markdown",
      "metadata": {
        "id": "3RdEDvisgWY3"
      },
      "source": [
        "# An approach to create a single perceptron using Python."
      ]
    },
    {
      "cell_type": "code",
      "execution_count": null,
      "metadata": {
        "id": "QlNhcuECgX-P"
      },
      "outputs": [],
      "source": []
    },
    {
      "cell_type": "markdown",
      "metadata": {
        "id": "BVFlQUjugmxI"
      },
      "source": [
        "# This is similar to the Linear Regression algorithm, but with a single perceptron\n",
        "\n",
        "We know the function that we need to write the weights is : y = mx + c\n",
        "Right now, c = 0 and the equation is : y = 3x"
      ]
    },
    {
      "cell_type": "code",
      "execution_count": null,
      "metadata": {
        "id": "nzBnHKA3g7Yc"
      },
      "outputs": [],
      "source": [
        "w = 0.1 # Random weight\n"
      ]
    },
    {
      "cell_type": "code",
      "execution_count": null,
      "metadata": {
        "id": "zgg2IO1cg8Wy"
      },
      "outputs": [],
      "source": [
        "# Making a simple prediction function\n",
        "def predict(i):\n",
        "    return w * i\n",
        "\n",
        "prediction = [predict(i) for i in inputs]"
      ]
    },
    {
      "cell_type": "code",
      "execution_count": null,
      "metadata": {
        "colab": {
          "base_uri": "https://localhost:8080/"
        },
        "id": "0ZEx5nbchKMG",
        "outputId": "52dd444a-32f5-4590-a20f-a8158a78d387"
      },
      "outputs": [
        {
          "name": "stdout",
          "output_type": "stream",
          "text": [
            "Prediction : [0.1, 0.2, 0.30000000000000004, 0.4, 0.5]\n"
          ]
        }
      ],
      "source": [
        "print(f'Prediction : {prediction}') # This output is really bad\n"
      ]
    },
    {
      "cell_type": "markdown",
      "metadata": {
        "id": "cseu-qCwhXT6"
      },
      "source": [
        "## To fix this, we will make a **cost** function. It is also known as a **Error** or **Loss** function\n",
        "Error = Loss = Cost => Same thing\n",
        "\n",
        "A cost function is needed to know how good or bad our model is performing.\n",
        "A **low cost** means the target value and predicted value is similar, while a **high  cost** informs us that the target and prediction values are far apart and the model needs a change."
      ]
    },
    {
      "cell_type": "code",
      "execution_count": null,
      "metadata": {
        "colab": {
          "base_uri": "https://localhost:8080/"
        },
        "id": "4eDrWX5ZhMt2",
        "outputId": "8c67d691-90eb-4122-a749-88f84594492b"
      },
      "outputs": [
        {
          "name": "stdout",
          "output_type": "stream",
          "text": [
            "[2.9, 5.8, 8.7, 11.6, 14.5]\n"
          ]
        }
      ],
      "source": [
        "cost_function = [t - p for p, t in zip(prediction, targets)] # t is target point and p is prediction point\n",
        "print(cost_function)"
      ]
    },
    {
      "cell_type": "markdown",
      "metadata": {
        "id": "BIzHLRk6j43N"
      },
      "source": [
        "Now, what we want to do is to get an average of the cost function\n"
      ]
    },
    {
      "cell_type": "code",
      "execution_count": null,
      "metadata": {
        "colab": {
          "base_uri": "https://localhost:8080/"
        },
        "id": "asfCtgVrj3vB",
        "outputId": "c0b28d73-a0d4-4de0-82bf-c90a6d80eea3"
      },
      "outputs": [
        {
          "name": "stdout",
          "output_type": "stream",
          "text": [
            "8.7\n"
          ]
        }
      ],
      "source": [
        "cost_function_average = sum(cost_function) / len(cost_function)\n",
        "print(cost_function_average)"
      ]
    },
    {
      "cell_type": "markdown",
      "metadata": {
        "id": "OKZck2OqkZb7"
      },
      "source": [
        "As you can see, this cost function average is very high.\n",
        "\n",
        "## What we want to achieve is to **reduce** it.\n",
        "\n",
        "Since the only parameter that we control is the weight, we can add another variable called learning rate."
      ]
    },
    {
      "cell_type": "code",
      "execution_count": null,
      "metadata": {
        "id": "CoyPiN3TkYSV"
      },
      "outputs": [],
      "source": [
        "learning_rate = 0.1\n",
        "w += learning_rate * cost_function_average"
      ]
    },
    {
      "cell_type": "markdown",
      "metadata": {
        "id": "Y61PUJaNn-Et"
      },
      "source": [
        "#Now, because we are doing this iteratively, we need to add a loop, and this will run for a definite time called **epochs**"
      ]
    },
    {
      "cell_type": "code",
      "execution_count": null,
      "metadata": {
        "id": "7dAbLVXsn3bi"
      },
      "outputs": [],
      "source": [
        "epochs = 5"
      ]
    },
    {
      "cell_type": "code",
      "execution_count": null,
      "metadata": {
        "id": "aMSWOTqMoJt8"
      },
      "outputs": [],
      "source": [
        "\n",
        "w = 0.1\n",
        "\n",
        "for epoch in range(epochs):\n",
        "    prediction = [w * i for i in inputs] # To get the prediction\n",
        "\n",
        "    cost_function = [t - p for p, t in zip(prediction, targets)]\n",
        "    cost_function_average = sum(cost_function) / len(cost_function)\n",
        "\n",
        "    if (epoch + 1) % 10 == 0:\n",
        "        print(f'Epoch {epoch + 1} : {cost_function_average:.2f}, Weight : {w:.2f}')\n",
        "\n",
        "\n",
        "    w += learning_rate * cost_function_average # Update the weights"
      ]
    },
    {
      "cell_type": "markdown",
      "metadata": {
        "id": "4RA47YNpop_j"
      },
      "source": [
        "# You can see that the cost function average has reduced by a lot, and this is in just 5 epochs.\n",
        "\n",
        "Now we will test this perceptron on some test data, and increase the epochs to reduce the cost function\n"
      ]
    },
    {
      "cell_type": "code",
      "execution_count": null,
      "metadata": {
        "colab": {
          "base_uri": "https://localhost:8080/"
        },
        "id": "6EN6DzOAoc2A",
        "outputId": "2ac595eb-fee5-4cb7-9791-3ce921ccf666"
      },
      "outputs": [
        {
          "name": "stdout",
          "output_type": "stream",
          "text": [
            "Epoch 10 : 0.35, Weight : 2.88\n",
            "Epoch 20 : 0.01, Weight : 3.00\n",
            "Epoch 30 : 0.00, Weight : 3.00\n",
            "Epoch 40 : 0.00, Weight : 3.00\n",
            "Epoch 50 : 0.00, Weight : 3.00\n",
            "Epoch 60 : 0.00, Weight : 3.00\n",
            "Epoch 70 : 0.00, Weight : 3.00\n",
            "Epoch 80 : 0.00, Weight : 3.00\n",
            "Epoch 90 : 0.00, Weight : 3.00\n",
            "Epoch 100 : 0.00, Weight : 3.00\n"
          ]
        }
      ],
      "source": [
        "test_input = [9, 12]\n",
        "test_target = [27, 36]\n",
        "\n",
        "w = 0.1\n",
        "\n",
        "epochs = 100\n",
        "\n",
        "for epoch in range(epochs):\n",
        "    prediction = [w * i for i in inputs] # To get the prediction\n",
        "\n",
        "    cost_function = [t - p for p, t in zip(prediction, targets)]\n",
        "    cost_function_average = sum(cost_function) / len(cost_function)\n",
        "\n",
        "    if (epoch + 1) % 10 == 0:\n",
        "        print(f'Epoch {epoch + 1} : {cost_function_average:.2f}, Weight : {w:.2f}')\n",
        "\n",
        "\n",
        "    w += learning_rate * cost_function_average # Update the weights"
      ]
    },
    {
      "cell_type": "code",
      "execution_count": null,
      "metadata": {
        "colab": {
          "base_uri": "https://localhost:8080/"
        },
        "id": "x8KUvdsPxcTq",
        "outputId": "1c81a3cc-2a51-49a6-e4e6-c5bd54f13e70"
      },
      "outputs": [
        {
          "name": "stdout",
          "output_type": "stream",
          "text": [
            "Input : 9, Target : 27, Prediction : 26.999999999999993\n",
            "Input : 12, Target : 36, Prediction : 35.999999999999986\n"
          ]
        }
      ],
      "source": [
        "prediction = [predict(i) for i in test_input]\n",
        "\n",
        "for i, t, p in zip(test_input, test_target, prediction):\n",
        "    print(f'Input : {i}, Target : {t}, Prediction : {p}')"
      ]
    },
    {
      "cell_type": "markdown",
      "metadata": {
        "id": "ObRHgt0DErq_"
      },
      "source": [
        "Now, lets add a bias value and update it. What this does is actually **train** the perceptron to learn."
      ]
    },
    {
      "cell_type": "code",
      "execution_count": null,
      "metadata": {
        "colab": {
          "background_save": true,
          "base_uri": "https://localhost:8080/"
        },
        "id": "zhdhGDPtxvi9",
        "outputId": "738727a6-6204-489b-ff0e-88a5f197b5f5"
      },
      "outputs": [
        {
          "name": "stdout",
          "output_type": "stream",
          "text": [
            "Epoch 10 : Cost function average -> 0.35, Bias -> 2.7829745397, Weight -> 2.88\n",
            "Epoch 20 : Cost function average -> 0.01, Bias -> 2.896694320396242, Weight -> 3.00\n",
            "Epoch 30 : Cost function average -> 0.00, Bias -> 2.8999066227330816, Weight -> 3.00\n",
            "Epoch 40 : Cost function average -> 0.00, Bias -> 2.899997362323328, Weight -> 3.00\n",
            "Epoch 50 : Cost function average -> 0.00, Bias -> 2.899999925492163, Weight -> 3.00\n",
            "Epoch 60 : Cost function average -> 0.00, Bias -> 2.8999999978953386, Weight -> 3.00\n",
            "Epoch 70 : Cost function average -> 0.00, Bias -> 2.899999999940549, Weight -> 3.00\n",
            "Epoch 80 : Cost function average -> 0.00, Bias -> 2.899999999998321, Weight -> 3.00\n",
            "Epoch 90 : Cost function average -> 0.00, Bias -> 2.899999999999953, Weight -> 3.00\n",
            "Epoch 100 : Cost function average -> 0.00, Bias -> 2.899999999999999, Weight -> 3.00\n"
          ]
        }
      ],
      "source": [
        "test_input = [9, 12]\n",
        "test_target = [27, 36]\n",
        "\n",
        "w = 0.1\n",
        "b = 0\n",
        "epochs = 100\n",
        "\n",
        "for epoch in range(epochs):\n",
        "    prediction = [w * i for i in inputs] # To get the prediction\n",
        "\n",
        "    cost_function = [t - p for p, t in zip(prediction, targets)]\n",
        "    cost_function_average = sum(cost_function) / len(cost_function)\n",
        "\n",
        "    if (epoch + 1) % 10 == 0:\n",
        "        print(f'Epoch {epoch + 1} : Cost function average -> {cost_function_average:.2f}, Bias -> {b}, Weight -> {w:.2f}')\n",
        "\n",
        "\n",
        "    w += learning_rate * cost_function_average # Update the weights\n",
        "    b += learning_rate * cost_function_average # Update the bias"
      ]
    },
    {
      "cell_type": "code",
      "execution_count": null,
      "metadata": {
        "id": "vmvCZQLSFStI"
      },
      "outputs": [],
      "source": []
    }
  ],
  "metadata": {
    "accelerator": "GPU",
    "colab": {
      "gpuType": "T4",
      "provenance": [],
      "authorship_tag": "ABX9TyMLTHTP9WWNaBdSSIU4lgN7",
      "include_colab_link": true
    },
    "kernelspec": {
      "display_name": "Python 3",
      "name": "python3"
    },
    "language_info": {
      "name": "python"
    }
  },
  "nbformat": 4,
  "nbformat_minor": 0
}