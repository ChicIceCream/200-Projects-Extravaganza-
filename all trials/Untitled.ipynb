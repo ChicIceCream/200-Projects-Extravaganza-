{
 "cells": [
  {
   "cell_type": "code",
   "execution_count": 3,
   "id": "ee53de5a",
   "metadata": {},
   "outputs": [
    {
     "name": "stdout",
     "output_type": "stream",
     "text": [
      "Coefficients: [ 0.00000000e+00  2.31764550e+08  1.77857421e+07  5.62163305e+06\n",
      "  1.21522551e+07 -8.56109788e+06 -1.92669663e+09  1.75940784e+08\n",
      " -2.61280580e+07 -2.08718900e+08  7.39326057e+05 -1.05532590e+07\n",
      " -4.23983129e+06 -1.79388999e+08  3.30741994e+05 -2.15465542e+06\n",
      " -4.93224564e+07 -1.32296725e+06  1.56997568e+08  1.73639245e+04\n",
      " -1.24838185e-02]\n",
      "Intercept: 251139602590.51367\n"
     ]
    }
   ],
   "source": [
    "import numpy as np\n",
    "import pandas as pd\n",
    "from sklearn.linear_model import LinearRegression\n",
    "from sklearn.preprocessing import PolynomialFeatures\n",
    "from sklearn.pipeline import make_pipeline\n",
    "\n",
    "# Load the data\n",
    "# Example dataset format\n",
    "data = pd.read_csv('ANN MAAM\\\\ANN_data.csv')  # Replace with actual file path\n",
    "\n",
    "# Define input features (X) and output (y)\n",
    "X = data[['Thickness', 'Al_Mole_Fraction', 'In_Mole_Fraction', 'Vd', 'Vg']]\n",
    "y = data['Id']\n",
    "\n",
    "# Fit a polynomial regression model (degree 2 for non-linearity)\n",
    "degree = 2  # Adjust as necessary\n",
    "poly_model = make_pipeline(PolynomialFeatures(degree), LinearRegression())\n",
    "poly_model.fit(X, y)\n",
    "\n",
    "# Predict Id based on the input features\n",
    "y_pred = poly_model.predict(X)\n",
    "\n",
    "# Print coefficients (for a human-readable equation)\n",
    "print(\"Coefficients:\", poly_model.named_steps['linearregression'].coef_)\n",
    "print(\"Intercept:\", poly_model.named_steps['linearregression'].intercept_)\n"
   ]
  },
  {
   "cell_type": "code",
   "execution_count": null,
   "id": "3a2c1dd8",
   "metadata": {},
   "outputs": [],
   "source": [
    " "
   ]
  }
 ],
 "metadata": {
  "kernelspec": {
   "display_name": "Python 3 (ipykernel)",
   "language": "python",
   "name": "python3"
  },
  "language_info": {
   "codemirror_mode": {
    "name": "ipython",
    "version": 3
   },
   "file_extension": ".py",
   "mimetype": "text/x-python",
   "name": "python",
   "nbconvert_exporter": "python",
   "pygments_lexer": "ipython3",
   "version": "3.11.5"
  }
 },
 "nbformat": 4,
 "nbformat_minor": 5
}
