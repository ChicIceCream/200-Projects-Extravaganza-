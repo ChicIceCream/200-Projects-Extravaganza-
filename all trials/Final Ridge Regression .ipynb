{
 "cells": [
  {
   "cell_type": "code",
   "execution_count": 1,
   "id": "ab62f7da",
   "metadata": {},
   "outputs": [
    {
     "name": "stdout",
     "output_type": "stream",
     "text": [
      "Coefficients: [ 0.00000000e+00 -6.08872630e-28  6.21175221e-03  1.54614046e-03\n",
      " -5.17912030e-04  2.11897855e-03  3.10846494e-27  7.01928000e-02\n",
      "  1.74713872e-02 -5.85240594e-03  2.39444576e-02  8.69843411e-03\n",
      "  2.01367272e-03  6.16876551e-02  1.09459743e-01  4.63880980e-04\n",
      "  1.53940760e-02  2.67316564e-02 -8.28659248e-03 -2.30239163e-02\n",
      " -1.23605033e-02]\n",
      "Intercept: 1.4206238855729205\n"
     ]
    }
   ],
   "source": [
    "import numpy as np\n",
    "import pandas as pd\n",
    "from sklearn.linear_model import Ridge\n",
    "from sklearn.preprocessing import PolynomialFeatures\n",
    "from sklearn.pipeline import make_pipeline\n",
    "\n",
    "# Load the data\n",
    "data = pd.read_csv('ANN MAAM\\\\ANN_data.csv')  # Replace with actual file path\n",
    "\n",
    "# Define input features (X) and output (y)\n",
    "X = data[['Thickness', 'Al_Mole_Fraction', 'In_Mole_Fraction', 'Vd', 'Vg']]\n",
    "y = data['Id']\n",
    "\n",
    "# Fit a polynomial ridge regression model (degree 2 for non-linearity)\n",
    "degree = 2  # Adjust as necessary\n",
    "alpha_value = 0.1  # Adjust alpha for regularization strength\n",
    "poly_ridge_model = make_pipeline(PolynomialFeatures(degree), Ridge(alpha=alpha_value))\n",
    "\n",
    "# Train the model\n",
    "poly_ridge_model.fit(X, y)\n",
    "\n",
    "# Predict Id based on the input features\n",
    "y_pred = poly_ridge_model.predict(X)\n",
    "\n",
    "# Print coefficients (for a human-readable equation)\n",
    "print(\"Coefficients:\", poly_ridge_model.named_steps['ridge'].coef_)\n",
    "print(\"Intercept:\", poly_ridge_model.named_steps['ridge'].intercept_)\n"
   ]
  },
  {
   "cell_type": "code",
   "execution_count": 3,
   "id": "4e70189d",
   "metadata": {},
   "outputs": [
    {
     "name": "stdout",
     "output_type": "stream",
     "text": [
      "Coefficients: [ 0.00000000e+00 -6.08872630e-28  6.21175221e-03  1.54614046e-03\n",
      " -5.17912030e-04  2.11897855e-03  3.10846494e-27  7.01928000e-02\n",
      "  1.74713872e-02 -5.85240594e-03  2.39444576e-02  8.69843411e-03\n",
      "  2.01367272e-03  6.16876551e-02  1.09459743e-01  4.63880980e-04\n",
      "  1.53940760e-02  2.67316564e-02 -8.28659248e-03 -2.30239163e-02\n",
      " -1.23605033e-02]\n",
      "Intercept: 1.4206238855729205\n",
      "\n",
      "Generated Equation for Id:\n",
      "Id = 1.4206 + (-0.0000) * Thickness + (0.0062) * Al_Mole_Fraction + (0.0015) * In_Mole_Fraction + (-0.0005) * Vd + (0.0021) * Vg + (0.0000) * Thickness^2 + (0.0702) * Thickness Al_Mole_Fraction + (0.0175) * Thickness In_Mole_Fraction + (-0.0059) * Thickness Vd + (0.0239) * Thickness Vg + (0.0087) * Al_Mole_Fraction^2 + (0.0020) * Al_Mole_Fraction In_Mole_Fraction + (0.0617) * Al_Mole_Fraction Vd + (0.1095) * Al_Mole_Fraction Vg + (0.0005) * In_Mole_Fraction^2 + (0.0154) * In_Mole_Fraction Vd + (0.0267) * In_Mole_Fraction Vg + (-0.0083) * Vd^2 + (-0.0230) * Vd Vg + (-0.0124) * Vg^2\n"
     ]
    }
   ],
   "source": [
    "import numpy as np\n",
    "import pandas as pd\n",
    "from sklearn.linear_model import Ridge\n",
    "from sklearn.preprocessing import PolynomialFeatures\n",
    "from sklearn.pipeline import make_pipeline\n",
    "\n",
    "# Load the data\n",
    "data = pd.read_csv('ANN MAAM\\\\ANN_data.csv')  # Replace with actual file path\n",
    "\n",
    "# Define input features (X) and output (y)\n",
    "X = data[['Thickness', 'Al_Mole_Fraction', 'In_Mole_Fraction', 'Vd', 'Vg']]\n",
    "y = data['Id']\n",
    "\n",
    "# Fit a polynomial ridge regression model (degree 2 for non-linearity)\n",
    "degree = 2  # Adjust as necessary\n",
    "alpha_value = 0.1  # Regularization strength\n",
    "poly_ridge_model = make_pipeline(PolynomialFeatures(degree), Ridge(alpha=alpha_value))\n",
    "\n",
    "# Train the model\n",
    "poly_ridge_model.fit(X, y)\n",
    "\n",
    "# Predict Id based on the input features\n",
    "y_pred = poly_ridge_model.predict(X)\n",
    "\n",
    "# Print coefficients (for a human-readable equation)\n",
    "coef = poly_ridge_model.named_steps['ridge'].coef_\n",
    "intercept = poly_ridge_model.named_steps['ridge'].intercept_\n",
    "\n",
    "print(\"Coefficients:\", coef)\n",
    "print(\"Intercept:\", intercept)\n",
    "\n",
    "# Get the polynomial feature names (input variables and their combinations)\n",
    "poly_features = poly_ridge_model.named_steps['polynomialfeatures'].get_feature_names_out(X.columns)\n",
    "\n",
    "# Generate the equation in a readable format\n",
    "equation = f\"Id = {intercept:.4f}\"\n",
    "for feature, coef_value in zip(poly_features[1:], coef[1:]):  # Skip the first term (intercept)\n",
    "    equation += f\" + ({coef_value:.4f}) * {feature}\"\n",
    "\n",
    "print(\"\\nGenerated Equation for Id:\")\n",
    "print(equation)\n",
    "\n",
    "\n"
   ]
  },
  {
   "cell_type": "code",
   "execution_count": 5,
   "id": "d0f75aac",
   "metadata": {},
   "outputs": [
    {
     "name": "stdout",
     "output_type": "stream",
     "text": [
      "\n",
      "Predicted Id for new data [12.8   0.7   0.15 10.   -3.  ]: 0.3759 mA\n"
     ]
    }
   ],
   "source": [
    "# Test with new data (you can replace this with your own values)\n",
    "new_data = pd.DataFrame({\n",
    "    'Thickness': [12.8],\n",
    "    'Al_Mole_Fraction': [0.7],\n",
    "    'In_Mole_Fraction': [0.15],\n",
    "    'Vd': [10],\n",
    "    'Vg': [-3]\n",
    "})\n",
    "\n",
    "# Predict Id for the new data\n",
    "new_pred = poly_ridge_model.predict(new_data)\n",
    "print(f\"\\nPredicted Id for new data {new_data.values.flatten()}: {new_pred[0]:.4f} mA\")"
   ]
  },
  {
   "cell_type": "code",
   "execution_count": 14,
   "id": "4c070750",
   "metadata": {},
   "outputs": [
    {
     "name": "stdout",
     "output_type": "stream",
     "text": [
      "Coefficients: [ 0.00000000e+00  5.44396643e-04 -1.66266803e-05 -1.37562046e-05\n",
      " -7.31393104e-04  2.34118648e-04  2.32834597e-01  8.62786588e-03\n",
      " -6.34948781e-05 -1.37958375e-04 -2.82077565e-03  4.79672837e-03\n",
      " -1.61295353e-02 -2.79055580e-05 -1.45283361e-05 -7.73323080e-04\n",
      "  3.73819774e-04  1.82353415e-01 -4.53611840e-06 -2.32643149e-04\n",
      "  1.33679743e-04  9.06932472e-03 -1.17022897e-02  5.85187338e-03\n",
      " -1.05617755e-02 -4.94169667e-03 -2.02521212e-02 -1.00453540e-02]\n",
      "Intercept: 1.7781928962008933\n",
      "\n",
      "Generated Equation for Id:\n",
      "Id = 1.7782 + (0.0005) * Thickness + (-0.0000) * Al_Mole_Fraction + (-0.0000) * In_Mole_Fraction + (-0.0007) * Vd + (0.0002) * Threshold_Voltage_Vth + (0.2328) * Vg + (0.0086) * Thickness^2 + (-0.0001) * Thickness Al_Mole_Fraction + (-0.0001) * Thickness In_Mole_Fraction + (-0.0028) * Thickness Vd + (0.0048) * Thickness Threshold_Voltage_Vth + (-0.0161) * Thickness Vg + (-0.0000) * Al_Mole_Fraction^2 + (-0.0000) * Al_Mole_Fraction In_Mole_Fraction + (-0.0008) * Al_Mole_Fraction Vd + (0.0004) * Al_Mole_Fraction Threshold_Voltage_Vth + (0.1824) * Al_Mole_Fraction Vg + (-0.0000) * In_Mole_Fraction^2 + (-0.0002) * In_Mole_Fraction Vd + (0.0001) * In_Mole_Fraction Threshold_Voltage_Vth + (0.0091) * In_Mole_Fraction Vg + (-0.0117) * Vd^2 + (0.0059) * Vd Threshold_Voltage_Vth + (-0.0106) * Vd Vg + (-0.0049) * Threshold_Voltage_Vth^2 + (-0.0203) * Threshold_Voltage_Vth Vg + (-0.0100) * Vg^2\n"
     ]
    }
   ],
   "source": [
    "import numpy as np\n",
    "import pandas as pd\n",
    "from sklearn.linear_model import Ridge\n",
    "from sklearn.preprocessing import PolynomialFeatures\n",
    "from sklearn.pipeline import make_pipeline\n",
    "\n",
    "# Load the data from the CSV file\n",
    "data = pd.read_csv('ANN MAAM\\\\ANN_data.csv')  # Replace with the actual file path\n",
    "\n",
    "# Define input features (X) and output (y)\n",
    "X = data[['Thickness', 'Al_Mole_Fraction', 'In_Mole_Fraction', 'Vd', 'Threshold_Voltage_Vth', 'Vg']]\n",
    "y = data['Id']\n",
    "\n",
    "# Fit a polynomial ridge regression model (degree 2 for non-linearity)\n",
    "degree = 2  # Adjust as necessary\n",
    "alpha_value = 0.1  # Regularization strength\n",
    "poly_ridge_model = make_pipeline(PolynomialFeatures(degree), Ridge(alpha=alpha_value))\n",
    "\n",
    "# Train the model\n",
    "poly_ridge_model.fit(X, y)\n",
    "\n",
    "# Predict Id based on the input features\n",
    "y_pred = poly_ridge_model.predict(X)\n",
    "\n",
    "# Print coefficients (for a human-readable equation)\n",
    "coef = poly_ridge_model.named_steps['ridge'].coef_\n",
    "intercept = poly_ridge_model.named_steps['ridge'].intercept_\n",
    "\n",
    "print(\"Coefficients:\", coef)\n",
    "print(\"Intercept:\", intercept)\n",
    "\n",
    "# Get the polynomial feature names (input variables and their combinations)\n",
    "poly_features = poly_ridge_model.named_steps['polynomialfeatures'].get_feature_names_out(X.columns)\n",
    "\n",
    "# Generate the equation in a readable format\n",
    "equation = f\"Id = {intercept:.4f}\"\n",
    "for feature, coef_value in zip(poly_features[1:], coef[1:]):  # Skip the first term (intercept)\n",
    "    equation += f\" + ({coef_value:.4f}) * {feature}\"\n",
    "\n",
    "print(\"\\nGenerated Equation for Id:\")\n",
    "print(equation)\n",
    "\n",
    "\n"
   ]
  },
  {
   "cell_type": "code",
   "execution_count": 18,
   "id": "eca01e05",
   "metadata": {},
   "outputs": [
    {
     "name": "stdout",
     "output_type": "stream",
     "text": [
      "\n",
      "Predicted Id for new data [12.8  0.7  0.1 10.  -4.3 -1.5]: 0.8173 mA\n"
     ]
    }
   ],
   "source": [
    "# Test with new data (you can replace this with your own values)\n",
    "new_data = pd.DataFrame({\n",
    "    'Thickness': [12.8],\n",
    "    'Al_Mole_Fraction': [0.7],\n",
    "    'In_Mole_Fraction': [0.1],\n",
    "    'Vd': [10],\n",
    "    'Threshold_Voltage_Vth': [-4.3],\n",
    "    'Vg': [-1.5]\n",
    "})\n",
    "\n",
    "# Predict Id for the new data\n",
    "new_pred = poly_ridge_model.predict(new_data)\n",
    "print(f\"\\nPredicted Id for new data {new_data.values.flatten()}: {new_pred[0]:.4f} mA\")"
   ]
  },
  {
   "cell_type": "code",
   "execution_count": null,
   "id": "e51f6678",
   "metadata": {},
   "outputs": [],
   "source": []
  }
 ],
 "metadata": {
  "kernelspec": {
   "display_name": "Python 3 (ipykernel)",
   "language": "python",
   "name": "python3"
  },
  "language_info": {
   "codemirror_mode": {
    "name": "ipython",
    "version": 3
   },
   "file_extension": ".py",
   "mimetype": "text/x-python",
   "name": "python",
   "nbconvert_exporter": "python",
   "pygments_lexer": "ipython3",
   "version": "3.11.5"
  }
 },
 "nbformat": 4,
 "nbformat_minor": 5
}
